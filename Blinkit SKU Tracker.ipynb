{
 "cells": [
  {
   "cell_type": "markdown",
   "id": "b59d4401",
   "metadata": {},
   "source": [
    "# Blinkit SKU Tracker"
   ]
  },
  {
   "cell_type": "code",
   "execution_count": null,
   "id": "19705959",
   "metadata": {},
   "outputs": [],
   "source": [
    "from selenium import webdriver\n",
    "from selenium.webdriver.common.by import By\n",
    "from selenium.webdriver.support.ui import WebDriverWait\n",
    "from selenium.webdriver.support import expected_conditions as ExpectedConditions\n",
    "import warnings \n",
    "warnings.filterwarnings('ignore')\n",
    "import pandas as pd\n",
    "from time import sleep\n",
    "import time\n",
    "from selenium.common.exceptions import NoSuchElementException\n",
    "from datetime import datetime\n",
    "from selenium.webdriver.chrome.options import Options\n",
    "from selenium.webdriver.common.keys import Keys\n",
    "from selenium.webdriver.support.ui import Select\n",
    "from bs4 import BeautifulSoup"
   ]
  },
  {
   "cell_type": "code",
   "execution_count": null,
   "id": "b909c56c",
   "metadata": {},
   "outputs": [],
   "source": [
    "df=pd.read_excel('Blinkit Data.xlsx')\n",
    "df"
   ]
  },
  {
   "cell_type": "code",
   "execution_count": null,
   "id": "590ca534",
   "metadata": {},
   "outputs": [],
   "source": [
    "mobile_emulation= {\"deviceName\":\"Nexus 5\"}\n",
    "path = r\"C:\\Users\\Sanchit\\Downloads\\chromedriver.exe\"\n",
    "options = Options()\n",
    "\n",
    "options.add_experimental_option(\"mobileEmulation\",mobile_emulation)\n",
    "options.add_argument('--headless')\n",
    "options.add_argument('--disable-gpu')  \n",
    "options.add_argument('--no-sandbox')"
   ]
  },
  {
   "cell_type": "code",
   "execution_count": null,
   "id": "528e363e",
   "metadata": {},
   "outputs": [],
   "source": [
    "new={\"Pincode\":[], \"City\":[],\"Master SKU\":[],\"PRID\":[], \"Title\":[],\"SP\":[],\"Opportunity Lost\":[]}\n",
    "count = 0\n",
    "start_time = time.time()"
   ]
  },
  {
   "cell_type": "code",
   "execution_count": null,
   "id": "64460875",
   "metadata": {
    "scrolled": true
   },
   "outputs": [],
   "source": [
    "for i in range(0,10):\n",
    "  \n",
    "    driver=webdriver.Chrome(executable_path=path,options=options)\n",
    "    \n",
    "\n",
    "    driver.get(df.loc[i,\"Link\"])\n",
    "    sleep(3)\n",
    "    \n",
    "    try:\n",
    "        driver.find_element_by_xpath('/html/body/div[5]/div/div/div/div[3]').click()  \n",
    "        sleep(1)\n",
    "        \n",
    "    except NoSuchElementException:      \n",
    "        pass\n",
    "    \n",
    "    try:\n",
    "        false = driver.find_element_by_xpath('//*[@id=\"app\"]/div/div/div[3]/div/div/section/h1')\n",
    "        new[\"Pincode\"].append(df[\"Pincode\"][i])\n",
    "        new[\"City\"].append(df[\"city\"][i])\n",
    "        new[\"Master SKU\"].append(df[\"Master SKU\"][i])\n",
    "        new[\"PRID\"].append(df[\"product_id\"][i])\n",
    "        new[\"Opportunity Lost\"].append(df[\"Opportunity Lost\"][i])\n",
    "        new[\"Title\"].append(df[\"Master SKU\"][i])\n",
    "        new[\"SP\"].append(\"Out of Stock\")\n",
    "    \n",
    "    \n",
    "    except NoSuchElementException:\n",
    "        driver.find_element_by_xpath('//*[@id=\"app\"]/div/div/div[1]/header/div[1]/div[2]/div/div[2]/div[1]').click()\n",
    "        pincode = driver.find_element_by_xpath('//*[@id=\"react-select-2--value\"]/div[2]/input')\n",
    "        sleep(1)\n",
    "        pin = str(df.loc[i,\"Pincode\"])\n",
    "        pincode.send_keys(pin)\n",
    "        sleep(1)\n",
    "        pincode.send_keys(\" \")\n",
    "        sleep(3)\n",
    "        pincode.send_keys(Keys.RETURN)\n",
    "        sleep(3)\n",
    "\n",
    "        soup = BeautifulSoup(driver.page_source, 'html.parser')\n",
    "\n",
    "        title = soup.find(\"h1\", class_=\"ProductInfoCard__ProductName-sc-113r60q-10 eUWnwG\")\n",
    "        container = soup.find(\"div\", class_=\"ProductVariants__VariantsCardSlider-sc-1unev4j-1 fpFisu\")\n",
    "\n",
    "        if title:\n",
    "            new[\"Title\"].append(title.text)\n",
    "        else:\n",
    "            new[\"Title\"].append(\"N/A\")\n",
    "\n",
    "        if container:\n",
    "            in_stock = False\n",
    "            for box in container:\n",
    "                price = box.find(\"div\", class_=\"ProductVariants__PriceContainer-sc-1unev4j-6 gldKTp\").text\n",
    "                if \"₹\" in price:\n",
    "                    price = price.split()[0]\n",
    "                    new[\"SP\"].append(price)\n",
    "                    in_stock = True\n",
    "                    break\n",
    "            if not in_stock:\n",
    "                new[\"SP\"].append(\"Out of Stock\")\n",
    "        else:\n",
    "            new[\"SP\"].append(\"N/A\")\n",
    "            \n",
    "        new[\"Pincode\"].append(df[\"Pincode\"][i])\n",
    "        new[\"City\"].append(df[\"city\"][i])\n",
    "        new[\"Master SKU\"].append(df[\"Master SKU\"][i])\n",
    "        new[\"PRID\"].append(df[\"product_id\"][i])\n",
    "        new[\"Opportunity Lost\"].append(df[\"Opportunity Lost\"][i])        \n",
    "    \n",
    "    count = count + 1\n",
    "    print(count)\n",
    "    \n",
    "    driver.close()\n",
    "\n",
    "    \n",
    "end_time = time.time()\n",
    "print(\"Start Time: \",time.ctime(int(start_time)))\n",
    "print(\"End Time: \",time.ctime(int(end_time)))\n",
    "print(f\"Total runtime of the program is {end_time - start_time}\")\n"
   ]
  },
  {
   "cell_type": "code",
   "execution_count": null,
   "id": "8ca388ae",
   "metadata": {},
   "outputs": [],
   "source": [
    "res = pd.DataFrame(new)"
   ]
  },
  {
   "cell_type": "code",
   "execution_count": null,
   "id": "82e83b91",
   "metadata": {},
   "outputs": [],
   "source": []
  }
 ],
 "metadata": {
  "kernelspec": {
   "display_name": "Python 3 (ipykernel)",
   "language": "python",
   "name": "python3"
  },
  "language_info": {
   "codemirror_mode": {
    "name": "ipython",
    "version": 3
   },
   "file_extension": ".py",
   "mimetype": "text/x-python",
   "name": "python",
   "nbconvert_exporter": "python",
   "pygments_lexer": "ipython3",
   "version": "3.11.4"
  }
 },
 "nbformat": 4,
 "nbformat_minor": 5
}
